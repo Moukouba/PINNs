{
 "cells": [
  {
   "cell_type": "markdown",
   "id": "50ef3a2d-c28e-4589-b720-19dac4a971b2",
   "metadata": {},
   "source": [
    "# **Using a Physics-Informed Neural Network (PINN) to Solve an Ordinary Differential Equation**\n",
    "\n",
    "In this notebook, we will demonstrate how to use a Physics-Informed Neural Network (PINN) to solve a differential equation. The illustration problem is to model the concentration of salt in a reservoir over time, taken from the book \"**Problems In Mathematical Analysis**\", by Demidovich.\n",
    "\n",
    "## **Problem statement:**\n",
    "\n",
    "We have a tank initially filled with 100 liters of water containing 10 kilograms of salt. Fresh water flows into the tank at a rate of 3 liters per minute, while the well-stirred mixture flows out at 2 liters per minute. The concentration of salt is assumed to remain uniform at all times due to perfect mixing.\n",
    "\n",
    "**Question:** Determine the amount of salt in the tank after one hour.\n",
    "\n",
    "## **Analytical Solution:**\n",
    "\n",
    "- Initial Volume : $V(0) = 100L$ \n",
    "\n",
    "- Initial Mass of Salt: $x(0) = 10kg$\n",
    "\n",
    "- Inflow Rate of Pure Water : $q_{in} = 3L/min$\n",
    "\n",
    "- Outflow Rate of Mixture : $q_{out} = 2L/min$\n",
    "\n",
    "- Input Concentration: $0$, (because of pure water)\n",
    "\n",
    "- The volume of water in the tank changes over time as:\n",
    "$$\n",
    "V(t) = 100 + t, \\qquad \\text{since } 3\\,\\mathrm{L/min} \\text{ in} - 2\\,\\mathrm{L/min} \\text{ out} = +1\\,\\mathrm{L/min} \\text{ net}\n",
    "$$\n",
    "\n",
    "Let $x(t)$ be the amount of salt (in kilograms) in the tank at time $t$ minutes.\n",
    "\n",
    "- The rate of salt leaving is:\n",
    "\n",
    "$$Outflow\\_rate = 2\\cdot\\frac{x(t)}{V(t)}$$\n",
    "\n",
    "The rate of change of Salt is given by:\n",
    "\n",
    "$$\n",
    "\\frac{dx}{dt} = input\\_salt - output\\_salt\n",
    "$$\n",
    "\n",
    "Therefore,\n",
    "$$\n",
    "\\frac{dx}{dt} = -\\frac{2x(t)}{100 + V(t)}\n",
    "$$\n",
    "\n",
    "This is a separable first-order ODE. Integrating:\n",
    "$$\n",
    "lnx = −2ln(100+t) + lnC \\Rightarrow x(t) = \\frac{C}{(100+t)^2}\n",
    "$$\n",
    "\n",
    "Using the initial condition $x(0)=10$:\n",
    "$$\n",
    "10 = \\frac{C}{100^2} \\Rightarrow C = 10×100^2 = 100000\n",
    "$$\n",
    "\n",
    "Therefore, the exact solution is:\n",
    "$$\n",
    "x(t) = \\frac{100000}{(100+t)^2}\n",
    "$$\n",
    "\n",
    "After one hour (i.e., $t = 60 minutes$):\n",
    "$$\n",
    "x(60) = \\frac{100000}{(100 + 60)^2} = \\frac{100000}{25600} \\approx 3.90625 kg\n",
    "$$\n",
    "\n",
    "## **PINN Formulation:**\n",
    "\n",
    "We can train a PINN to approximate $x(t)$ by enforcing that the function $x_{\\theta }(t)$ (approximated by the network) satisfies:\n",
    "\n",
    "- ODE:\n",
    "  \n",
    "$$\n",
    "\\Re _{\\theta }(t) = \\frac{dx_{\\theta}(t)}{dt} + \\frac{2x_{\\theta}(t)}{100 + t} = 0\n",
    "$$\n",
    "\n",
    "- Initial Condition:\n",
    "$$x_{\\theta}(0) = 10$$\n",
    "\n",
    "- Loss Function:\n",
    "\n",
    "$$\n",
    "Loss = \\frac{1}{N}\\sum_{i=1}^{N}|\\Re _{\\theta}(t_i)|^2 + \\lambda∣x_{\\theta}(0) − 10∣^2\n",
    "\\text{where } \\lambda \\text{ is a hyperparameter (weight of the Initial Condition).}\n",
    "$$\n",
    "\n",
    "### **Step 1: Define the PINN Model Using TensorFlow's Functional API**\n",
    "\n",
    "First, we define the structure of our neural network. We use TensorFlow’s functional API to create the model. It takes a single input, the time variable t, and outputs a prediction for the amount of salt x in the reservoir."
   ]
  },
  {
   "cell_type": "code",
   "execution_count": 2,
   "id": "bc606cba-a481-486f-89d2-78d7cf9b6bf6",
   "metadata": {},
   "outputs": [],
   "source": [
    "import tensorflow as tf\n",
    "import numpy as np\n",
    "import matplotlib.pyplot as plt\n",
    "\n",
    "tf.keras.backend.set_floatx('float64')"
   ]
  },
  {
   "cell_type": "code",
   "execution_count": 3,
   "id": "a4a6ec73-9041-4712-9f53-e3fd1183517e",
   "metadata": {},
   "outputs": [
    {
     "name": "stderr",
     "output_type": "stream",
     "text": [
      "I0000 00:00:1746913196.996660    8313 gpu_device.cc:2022] Created device /job:localhost/replica:0/task:0/device:GPU:0 with 6156 MB memory:  -> device: 0, name: NVIDIA GeForce RTX 3070 Laptop GPU, pci bus id: 0000:01:00.0, compute capability: 8.6\n"
     ]
    }
   ],
   "source": [
    "inputs = tf.keras.Input(shape=(1,))\n",
    "x = tf.keras.layers.Dense(64, activation='tanh')(inputs)\n",
    "x = tf.keras.layers.Dense(32, activation='tanh')(x)\n",
    "outputs = tf.keras.layers.Dense(1)(x)\n",
    "model = tf.keras.Model(inputs=inputs, outputs=outputs)"
   ]
  },
  {
   "cell_type": "markdown",
   "id": "240c52d4-e641-40af-aee6-2dc03b709cf4",
   "metadata": {},
   "source": [
    "### **Step 2: Define the Residual of the Differential Equation (ODE)**\n",
    "\n",
    "To solve the differential equation, we need to compute its residual. This is where the PINN’s power comes in. We use TensorFlow’s GradientTape to compute the derivative of $x(t)$ with respect to time, $\\frac{dx}{dt}$, and subtract it from the left-hand side of the differential equation.\n",
    "\n",
    "The equation we are solving is:\n",
    "$$\n",
    "\\frac{dx}{dt} = -\\frac{2x}{100 + t}\n",
    "$$"
   ]
  },
  {
   "cell_type": "code",
   "execution_count": 4,
   "id": "1e13af21-8ba8-476e-a0a3-2563382d28fe",
   "metadata": {},
   "outputs": [],
   "source": [
    "def compute_residual(t):\n",
    "    with tf.GradientTape() as tape:\n",
    "        tape.watch(t)\n",
    "        x_pred = model(t)\n",
    "    dx_dt = tape.gradient(x_pred, t)\n",
    "    residual = dx_dt + 2 * x_pred / (100 + t)\n",
    "    return residual"
   ]
  },
  {
   "cell_type": "markdown",
   "id": "9e35cbd4-8b1c-475c-92f5-bba406f76868",
   "metadata": {},
   "source": [
    "- $dx__dt$ is the predicted derivative of $x(t)$, calculated using GradientTape.\n",
    "\n",
    "- residual is the difference between the left-hand side of the differential equation and the model’s prediction.\n",
    "\n",
    "\n",
    "### **Step 3: Define the Total Loss Function**\n",
    "\n",
    "The total loss function consists of two parts:\n",
    "\n",
    "1. The residual loss from the differential equation, which ensures the model satisfies the ODE.\n",
    "\n",
    "2. The initial condition loss, which enforces the fact that at $t=0$, the amount of salt in the reservoir is 10 kg."
   ]
  },
  {
   "cell_type": "code",
   "execution_count": 5,
   "id": "fc1b47ca-1b9a-43b0-8b20-4b04f45c2547",
   "metadata": {},
   "outputs": [],
   "source": [
    "def loss_fn(t_interior):\n",
    "    # Residual ODE\n",
    "    res = compute_residual(t_interior)\n",
    "    loss_res = tf.reduce_mean(tf.square(res))\n",
    "\n",
    "    # initial Condition : x(0) = 10\n",
    "    x0 = model(tf.constant([[0.0]], dtype=tf.float64))\n",
    "    loss_ic = tf.square(x0 - 10.0)\n",
    "\n",
    "    return loss_res + loss_ic"
   ]
  },
  {
   "cell_type": "markdown",
   "id": "e3f13d26-9ea5-4626-8af8-7ca5577c7cc3",
   "metadata": {},
   "source": [
    "- loss_res is the mean squared residual of the differential equation.\n",
    "\n",
    "- loss_ic ensures that the initial condition x(0)=10x(0)=10 is satisfied.\n",
    "\n",
    "### **Step 4: Train the PINN Model**\n",
    "\n",
    "Next, we set up the optimizer and define a training step to minimize the total loss. We use the Adam optimizer with a learning rate of 0.001."
   ]
  },
  {
   "cell_type": "code",
   "execution_count": 7,
   "id": "90d34378-5f3e-4502-9375-4815efb21021",
   "metadata": {},
   "outputs": [
    {
     "name": "stdout",
     "output_type": "stream",
     "text": [
      "Epoch 0, Loss: 100.010723\n",
      "Epoch 500, Loss: 0.000279\n",
      "Epoch 1000, Loss: 0.000162\n",
      "Epoch 1500, Loss: 0.000079\n",
      "Epoch 2000, Loss: 0.000045\n",
      "Epoch 2500, Loss: 0.000036\n",
      "Epoch 3000, Loss: 0.000031\n",
      "Epoch 3500, Loss: 0.000027\n",
      "Epoch 4000, Loss: 0.000024\n",
      "Epoch 4500, Loss: 0.000021\n",
      "Epoch 5000, Loss: 0.000018\n",
      "Epoch 5500, Loss: 0.000016\n",
      "Epoch 6000, Loss: 0.000015\n",
      "Epoch 6500, Loss: 0.000013\n",
      "Epoch 7000, Loss: 0.000012\n",
      "Epoch 7500, Loss: 0.000011\n",
      "Epoch 8000, Loss: 0.000011\n",
      "Epoch 8500, Loss: 0.000010\n",
      "Epoch 9000, Loss: 0.000009\n",
      "Epoch 9500, Loss: 0.000009\n"
     ]
    }
   ],
   "source": [
    "optimizer = tf.keras.optimizers.Adam(learning_rate=1e-3)\n",
    "\n",
    "@tf.function\n",
    "def train_step(t_interior):\n",
    "    with tf.GradientTape() as tape:\n",
    "        loss = loss_fn(t_interior)\n",
    "    gradients = tape.gradient(loss, model.trainable_variables)\n",
    "    optimizer.apply_gradients(zip(gradients, model.trainable_variables))\n",
    "    return loss\n",
    "\n",
    "t_train = tf.random.uniform((500, 1), minval=0.0, maxval=60.0, dtype=tf.float64)\n",
    "for epoch in range(10000):\n",
    "    loss = train_step(t_train)\n",
    "    if epoch % 500 == 0:\n",
    "        print(f\"Epoch {epoch}, Loss: {loss.numpy().item():.6f}\")"
   ]
  },
  {
   "cell_type": "markdown",
   "id": "f425c5d7-8c42-4599-989c-2f6ba46b20e5",
   "metadata": {},
   "source": [
    "### **Step 5: Evaluate the Model**\n",
    "\n",
    "Once the model is trained, we evaluate it on a test set of time values between 0 and 60 minutes. We then use the trained model to predict the amount of salt in the reservoir over time."
   ]
  },
  {
   "cell_type": "code",
   "execution_count": 10,
   "id": "ee24d190-81c5-46cf-820a-214f64b10057",
   "metadata": {},
   "outputs": [
    {
     "data": {
      "image/png": "[encoded data removed]",
      "text/plain": [
       "<Figure size 1000x500 with 1 Axes>"
      ]
     },
     "metadata": {},
     "output_type": "display_data"
    }
   ],
   "source": [
    "t_test = np.linspace(0, 60, 200).reshape(-1, 1)\n",
    "t_test_tf = tf.convert_to_tensor(t_test, dtype=tf.float64)\n",
    "x_pred = model(t_test_tf).numpy()\n",
    "\n",
    "# Analytical Solution : x(t) = 10 * 100^2 / (100 + t)^2\n",
    "x_exact = (10 * 100**2) / (100 + t_test) ** 2\n",
    "\n",
    "# Plotting exact vs PINN solutions\n",
    "plt.figure(figsize=(10, 5))\n",
    "plt.plot(t_test, x_exact, label='Analytical Solution', linewidth=2)\n",
    "plt.plot(t_test, x_pred, '--', label='PINN Solution', linewidth=2)\n",
    "plt.xlabel('Temps (minutes)')\n",
    "plt.ylabel('Amount of Salt (kg)')\n",
    "plt.title('Amount of Salt in the reservoir')\n",
    "plt.grid(True)\n",
    "plt.legend()\n",
    "plt.tight_layout()\n",
    "plt.show()"
   ]
  },
  {
   "cell_type": "code",
   "execution_count": 11,
   "id": "f995f559-1cbf-4480-99f8-b9c1cc144a76",
   "metadata": {},
   "outputs": [
    {
     "name": "stdout",
     "output_type": "stream",
     "text": [
      "Predicted amount of salt at t = 60 minutes: 3.909632 kg\n"
     ]
    }
   ],
   "source": [
    "# 9. Evaluation at t = 60 minutes (1 hour)\n",
    "t_one_hour = np.array([[60.0]])  # t = 60 minutes\n",
    "t_one_hour_tf = tf.convert_to_tensor(t_one_hour, dtype=tf.float64)\n",
    "x_one_hour_pred = model(t_one_hour_tf).numpy()\n",
    "\n",
    "print(f\"Predicted amount of salt at t = 60 minutes: {x_one_hour_pred[0][0]:.6f} kg\")"
   ]
  },
  {
   "cell_type": "markdown",
   "id": "b7fbb357-a76b-413f-994b-d0f7e9368b87",
   "metadata": {},
   "source": [
    "## **Conclusion**\n",
    "\n",
    "In this notebook, we have demonstrated how to solve an ordinary differential equation (ODE) for salt concentration in a reservoir using a **Physics-Informed Neural Network (PINN)**. The model successfully approximates the analytical solution, showing the power of PINNs in solving real-world problems where traditional methods might be difficult or impossible to apply.\n",
    "\n",
    "This method can be extended to more complex systems with more challenging differential equations, making it a versatile tool for scientists and engineers working with physical systems."
   ]
  },
  {
   "cell_type": "code",
   "execution_count": null,
   "id": "b69ccfcf-04db-4761-9d32-09593c46bfb7",
   "metadata": {},
   "outputs": [],
   "source": []
  }
 ],
 "metadata": {
  "kernelspec": {
   "display_name": "Python 3 (ipykernel)",
   "language": "python",
   "name": "python3"
  },
  "language_info": {
   "codemirror_mode": {
    "name": "ipython",
    "version": 3
   },
   "file_extension": ".py",
   "mimetype": "text/x-python",
   "name": "python",
   "nbconvert_exporter": "python",
   "pygments_lexer": "ipython3",
   "version": "3.12.9"
  }
 },
 "nbformat": 4,
 "nbformat_minor": 5
}
